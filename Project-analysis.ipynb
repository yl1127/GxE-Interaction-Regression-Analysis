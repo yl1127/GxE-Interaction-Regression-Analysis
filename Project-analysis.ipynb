{
 "cells": [
  {
   "cell_type": "code",
   "execution_count": 5,
   "metadata": {},
   "outputs": [],
   "source": [
    "import pandas as pd\n",
    "\n",
    "df1 = pd.read_csv('/Users/ylpan/Documents/GitHub/GxE-Interaction-Regression-Analysis/data/AMS578_Y_1415.csv')\n",
    "df2 = pd.read_csv('/Users/ylpan/Documents/GitHub/GxE-Interaction-Regression-Analysis/data/AMS578_E_1415.csv')\n",
    "df3 = pd.read_csv('/Users/ylpan/Documents/GitHub/GxE-Interaction-Regression-Analysis/data/AMS578_G_1415.csv')"
   ]
  },
  {
   "cell_type": "code",
   "execution_count": 7,
   "metadata": {},
   "outputs": [
    {
     "name": "stdout",
     "output_type": "stream",
     "text": [
      "           Y         E1         E2         E3         E4         E5  \\\n",
      "0  22.886871  50.563010  49.887368  50.673395  50.448073  49.666366   \n",
      "1        NaN  49.707738  50.183333  48.324652  51.161940  50.786052   \n",
      "2  22.731857  49.576813  49.456161  49.685875  51.128247  49.616270   \n",
      "3  23.081865  48.478951  50.091171  49.493196  49.680849  48.339918   \n",
      "4        NaN  50.625206  50.533741  49.522284  49.690645  49.971374   \n",
      "\n",
      "          E6   G1   G2   G3  ...  G11  G12  G13  G14  G15  G16  G17  G18  G19  \\\n",
      "0  49.843056  1.0  1.0  1.0  ...  1.0  1.0  1.0  1.0  1.0  0.0  1.0  0.0  NaN   \n",
      "1  48.940399  1.0  1.0  1.0  ...  1.0  1.0  1.0  1.0  0.0  1.0  1.0  1.0  0.0   \n",
      "2  51.081135  1.0  1.0  0.0  ...  0.0  1.0  1.0  0.0  1.0  1.0  1.0  1.0  1.0   \n",
      "3  50.783511  1.0  1.0  0.0  ...  1.0  1.0  0.0  1.0  1.0  1.0  1.0  0.0  1.0   \n",
      "4  50.179141  1.0  NaN  1.0  ...  1.0  1.0  1.0  1.0  1.0  1.0  1.0  1.0  1.0   \n",
      "\n",
      "   G20  \n",
      "0  1.0  \n",
      "1  1.0  \n",
      "2  1.0  \n",
      "3  1.0  \n",
      "4  1.0  \n",
      "\n",
      "[5 rows x 27 columns]\n"
     ]
    }
   ],
   "source": [
    "combined_df = pd.concat([df1, df2, df3], axis=1)\n",
    "# Display the combined dataset\n",
    "print(combined_df.head())"
   ]
  },
  {
   "cell_type": "code",
   "execution_count": 10,
   "metadata": {},
   "outputs": [
    {
     "name": "stdout",
     "output_type": "stream",
     "text": [
      "           Y         E1         E2         E3         E4         E5  \\\n",
      "0  22.886871  50.563010  49.887368  50.673395  50.448073  49.666366   \n",
      "1  23.034115  49.707738  50.183333  48.324652  51.161940  50.786052   \n",
      "2  22.731857  49.576813  49.456161  49.685875  51.128247  49.616270   \n",
      "3  23.081865  48.478951  50.091171  49.493196  49.680849  48.339918   \n",
      "4  23.269285  50.625206  50.533741  49.522284  49.690645  49.971374   \n",
      "\n",
      "          E6   G1        G2   G3  ...  G11  G12  G13  G14  G15  G16  G17  G18  \\\n",
      "0  49.843056  1.0  1.000000  1.0  ...  1.0  1.0  1.0  1.0  1.0  0.0  1.0  0.0   \n",
      "1  48.940399  1.0  1.000000  1.0  ...  1.0  1.0  1.0  1.0  0.0  1.0  1.0  1.0   \n",
      "2  51.081135  1.0  1.000000  0.0  ...  0.0  1.0  1.0  0.0  1.0  1.0  1.0  1.0   \n",
      "3  50.783511  1.0  1.000000  0.0  ...  1.0  1.0  0.0  1.0  1.0  1.0  1.0  0.0   \n",
      "4  50.179141  1.0  0.809175  1.0  ...  1.0  1.0  1.0  1.0  1.0  1.0  1.0  1.0   \n",
      "\n",
      "        G19  G20  \n",
      "0  0.776447  1.0  \n",
      "1  0.000000  1.0  \n",
      "2  1.000000  1.0  \n",
      "3  1.000000  1.0  \n",
      "4  1.000000  1.0  \n",
      "\n",
      "[5 rows x 27 columns]\n"
     ]
    }
   ],
   "source": [
    "\n",
    "# %pip install scikit-learn\n",
    "from sklearn.experimental import enable_iterative_imputer\n",
    "from sklearn.impute import IterativeImputer\n",
    "\n",
    "# Initialize the IterativeImputer\n",
    "imputer = IterativeImputer(max_iter=10, random_state=0)\n",
    "\n",
    "# Perform the imputation\n",
    "imputed_df = pd.DataFrame(imputer.fit_transform(combined_df), columns=combined_df.columns)\n",
    "\n",
    "# Display the imputed dataset\n",
    "print(imputed_df.head())"
   ]
  },
  {
   "cell_type": "code",
   "execution_count": 11,
   "metadata": {},
   "outputs": [
    {
     "name": "stdout",
     "output_type": "stream",
     "text": [
      "Selected important features:\n",
      "Index(['E1', 'G1', 'G5', 'G6', 'G9', 'G10', 'G11', 'G15', 'G16', 'G17'], dtype='object')\n"
     ]
    }
   ],
   "source": [
    "from sklearn.linear_model import LinearRegression\n",
    "from sklearn.feature_selection import RFE\n",
    "\n",
    "# Define the independent variables (E and G columns)\n",
    "X = imputed_df.drop(columns=['Y'])\n",
    "y = imputed_df['Y']\n",
    "\n",
    "# Initialize the linear regression model\n",
    "model = LinearRegression()\n",
    "\n",
    "# Initialize RFE with the linear regression model and specify the number of features to select\n",
    "rfe = RFE(model, n_features_to_select=10)  # You can adjust the number of features to select\n",
    "\n",
    "# Fit RFE\n",
    "rfe = rfe.fit(X, y)\n",
    "\n",
    "# Get the selected features\n",
    "selected_features = X.columns[rfe.support_]\n",
    "\n",
    "print(\"Selected important features:\")\n",
    "print(selected_features)"
   ]
  },
  {
   "cell_type": "code",
   "execution_count": 15,
   "metadata": {},
   "outputs": [],
   "source": [
    "from sklearn.preprocessing import PolynomialFeatures\n",
    "\n",
    "# Initialize PolynomialFeatures with degree 2 to include interaction terms\n",
    "poly = PolynomialFeatures(degree=2, interaction_only=True, include_bias=False)\n",
    "\n",
    "# Fit and transform the data to include interaction terms\n",
    "X_interaction = poly.fit_transform(X[selected_features])\n",
    "\n",
    "# Create a DataFrame with the interaction terms\n",
    "interaction_feature_names = poly.get_feature_names_out(selected_features)\n",
    "X_interaction_df = pd.DataFrame(X_interaction, columns=interaction_feature_names)\n",
    "\n",
    "# Display the DataFrame with interaction terms\n",
    "# print(X_interaction_df.head())"
   ]
  },
  {
   "cell_type": "code",
   "execution_count": 16,
   "metadata": {},
   "outputs": [
    {
     "name": "stdout",
     "output_type": "stream",
     "text": [
      "Selected important features with interaction terms:\n",
      "Index(['E1', 'G1', 'G11', 'G16', 'G17', 'G1 G16', 'G5 G9', 'G5 G16', 'G10 G17',\n",
      "       'G11 G17'],\n",
      "      dtype='object')\n"
     ]
    }
   ],
   "source": [
    "# Initialize RFE with the linear regression model and specify the number of features to select\n",
    "rfe_interaction = RFE(model, n_features_to_select=10)  # Adjust the number of features to select as needed\n",
    "\n",
    "# Fit RFE on the interaction terms\n",
    "rfe_interaction = rfe_interaction.fit(X_interaction_df, y)\n",
    "\n",
    "# Get the selected features\n",
    "selected_interaction_features = X_interaction_df.columns[rfe_interaction.support_]\n",
    "\n",
    "print(\"Selected important features with interaction terms:\")\n",
    "print(selected_interaction_features)\n"
   ]
  },
  {
   "cell_type": "code",
   "execution_count": 19,
   "metadata": {},
   "outputs": [
    {
     "name": "stdout",
     "output_type": "stream",
     "text": [
      "Coefficients of the regression model:\n",
      "[ 0.1343256   0.25317599 -0.10383825  0.36846844 -0.1018192   0.10546498\n",
      "  0.04913649 -0.07717179  0.04082774  0.10949093]\n",
      "Intercept of the regression model:\n",
      "15.829445664263684\n"
     ]
    }
   ],
   "source": [
    "# Define the selected features for the regression model\n",
    "selected_features_for_model = list(selected_interaction_features)\n",
    "\n",
    "# Extract the data for the selected features\n",
    "X_selected = X_interaction_df[selected_features_for_model]\n",
    "\n",
    "# Initialize the linear regression model\n",
    "model_selected = LinearRegression()\n",
    "\n",
    "# Fit the model\n",
    "model_selected.fit(X_selected, y)\n",
    "\n",
    "# Display the coefficients of the model\n",
    "print(\"Coefficients of the regression model:\")\n",
    "print(model_selected.coef_)\n",
    "\n",
    "# Display the intercept of the model\n",
    "print(\"Intercept of the regression model:\")\n",
    "print(model_selected.intercept_)"
   ]
  },
  {
   "cell_type": "code",
   "execution_count": 20,
   "metadata": {},
   "outputs": [
    {
     "name": "stdout",
     "output_type": "stream",
     "text": [
      "R^2 score of the regression model:\n",
      "0.6290755347683574\n"
     ]
    }
   ],
   "source": [
    "from sklearn.metrics import r2_score\n",
    "\n",
    "# Predict the target variable using the selected model\n",
    "y_pred = model_selected.predict(X_selected)\n",
    "\n",
    "# Calculate the R^2 score\n",
    "r2 = r2_score(y, y_pred)\n",
    "\n",
    "print(\"R^2 score of the regression model:\")\n",
    "print(r2)"
   ]
  }
 ],
 "metadata": {
  "kernelspec": {
   "display_name": "tt_tutorial",
   "language": "python",
   "name": "python3"
  },
  "language_info": {
   "codemirror_mode": {
    "name": "ipython",
    "version": 3
   },
   "file_extension": ".py",
   "mimetype": "text/x-python",
   "name": "python",
   "nbconvert_exporter": "python",
   "pygments_lexer": "ipython3",
   "version": "3.11.8"
  }
 },
 "nbformat": 4,
 "nbformat_minor": 2
}
